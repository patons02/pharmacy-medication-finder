{
 "cells": [
  {
   "cell_type": "markdown",
   "id": "4d6fecbe-b90c-42c0-8d8a-63581c5f2cea",
   "metadata": {
    "jp-MarkdownHeadingCollapsed": true
   },
   "source": [
    "# Install dependencies"
   ]
  },
  {
   "cell_type": "code",
   "execution_count": 6,
   "id": "8d9b5b59-8d81-4803-84ce-e371164ddf03",
   "metadata": {},
   "outputs": [
    {
     "name": "stdout",
     "output_type": "stream",
     "text": [
      "Requirement already satisfied: pandas in /Users/stuartpaton/miniconda3/lib/python3.9/site-packages (1.4.4)\n",
      "Requirement already satisfied: ipython-sql in /Users/stuartpaton/miniconda3/lib/python3.9/site-packages (0.5.0)\n",
      "Requirement already satisfied: python-dateutil>=2.8.1 in /Users/stuartpaton/miniconda3/lib/python3.9/site-packages (from pandas) (2.8.2)\n",
      "Requirement already satisfied: pytz>=2020.1 in /Users/stuartpaton/miniconda3/lib/python3.9/site-packages (from pandas) (2022.4)\n",
      "Requirement already satisfied: numpy>=1.20.0 in /Users/stuartpaton/miniconda3/lib/python3.9/site-packages (from pandas) (1.23.3)\n",
      "Requirement already satisfied: prettytable in /Users/stuartpaton/miniconda3/lib/python3.9/site-packages (from ipython-sql) (3.10.0)\n",
      "Requirement already satisfied: sqlalchemy>=2.0 in /Users/stuartpaton/miniconda3/lib/python3.9/site-packages (from ipython-sql) (2.0.30)\n",
      "Requirement already satisfied: ipython in /Users/stuartpaton/miniconda3/lib/python3.9/site-packages (from ipython-sql) (8.5.0)\n",
      "Requirement already satisfied: ipython-genutils in /Users/stuartpaton/miniconda3/lib/python3.9/site-packages (from ipython-sql) (0.2.0)\n",
      "Requirement already satisfied: sqlparse in /Users/stuartpaton/miniconda3/lib/python3.9/site-packages (from ipython-sql) (0.5.0)\n",
      "Requirement already satisfied: six in /Users/stuartpaton/miniconda3/lib/python3.9/site-packages (from ipython-sql) (1.16.0)\n",
      "Requirement already satisfied: typing-extensions>=4.6.0 in /Users/stuartpaton/miniconda3/lib/python3.9/site-packages (from sqlalchemy>=2.0->ipython-sql) (4.11.0)\n",
      "Requirement already satisfied: pexpect>4.3 in /Users/stuartpaton/miniconda3/lib/python3.9/site-packages (from ipython->ipython-sql) (4.8.0)\n",
      "Requirement already satisfied: pygments>=2.4.0 in /Users/stuartpaton/miniconda3/lib/python3.9/site-packages (from ipython->ipython-sql) (2.13.0)\n",
      "Requirement already satisfied: appnope in /Users/stuartpaton/miniconda3/lib/python3.9/site-packages (from ipython->ipython-sql) (0.1.3)\n",
      "Requirement already satisfied: stack-data in /Users/stuartpaton/miniconda3/lib/python3.9/site-packages (from ipython->ipython-sql) (0.5.1)\n",
      "Requirement already satisfied: traitlets>=5 in /Users/stuartpaton/miniconda3/lib/python3.9/site-packages (from ipython->ipython-sql) (5.4.0)\n",
      "Requirement already satisfied: pickleshare in /Users/stuartpaton/miniconda3/lib/python3.9/site-packages (from ipython->ipython-sql) (0.7.5)\n",
      "Requirement already satisfied: decorator in /Users/stuartpaton/miniconda3/lib/python3.9/site-packages (from ipython->ipython-sql) (5.1.1)\n",
      "Requirement already satisfied: backcall in /Users/stuartpaton/miniconda3/lib/python3.9/site-packages (from ipython->ipython-sql) (0.2.0)\n",
      "Requirement already satisfied: matplotlib-inline in /Users/stuartpaton/miniconda3/lib/python3.9/site-packages (from ipython->ipython-sql) (0.1.6)\n",
      "Requirement already satisfied: jedi>=0.16 in /Users/stuartpaton/miniconda3/lib/python3.9/site-packages (from ipython->ipython-sql) (0.18.1)\n",
      "Requirement already satisfied: prompt-toolkit<3.1.0,>3.0.1 in /Users/stuartpaton/miniconda3/lib/python3.9/site-packages (from ipython->ipython-sql) (3.0.31)\n",
      "Requirement already satisfied: parso<0.9.0,>=0.8.0 in /Users/stuartpaton/miniconda3/lib/python3.9/site-packages (from jedi>=0.16->ipython->ipython-sql) (0.8.3)\n",
      "Requirement already satisfied: ptyprocess>=0.5 in /Users/stuartpaton/miniconda3/lib/python3.9/site-packages (from pexpect>4.3->ipython->ipython-sql) (0.7.0)\n",
      "Requirement already satisfied: wcwidth in /Users/stuartpaton/miniconda3/lib/python3.9/site-packages (from prompt-toolkit<3.1.0,>3.0.1->ipython->ipython-sql) (0.2.5)\n",
      "Requirement already satisfied: pure-eval in /Users/stuartpaton/miniconda3/lib/python3.9/site-packages (from stack-data->ipython->ipython-sql) (0.2.2)\n",
      "Requirement already satisfied: executing in /Users/stuartpaton/miniconda3/lib/python3.9/site-packages (from stack-data->ipython->ipython-sql) (1.1.1)\n",
      "Requirement already satisfied: asttokens in /Users/stuartpaton/miniconda3/lib/python3.9/site-packages (from stack-data->ipython->ipython-sql) (2.0.8)\n"
     ]
    }
   ],
   "source": [
    "!pip install pandas ipython-sql\n"
   ]
  },
  {
   "cell_type": "code",
   "execution_count": 7,
   "id": "f6bcfd87-8354-4fb4-8f70-9a733cb13a68",
   "metadata": {},
   "outputs": [
    {
     "name": "stdout",
     "output_type": "stream",
     "text": [
      "Requirement already satisfied: beautifulsoup4 in /Users/stuartpaton/miniconda3/lib/python3.9/site-packages (4.11.1)\n",
      "Requirement already satisfied: requests in /Users/stuartpaton/miniconda3/lib/python3.9/site-packages (2.27.1)\n",
      "Requirement already satisfied: lxml in /Users/stuartpaton/miniconda3/lib/python3.9/site-packages (5.2.1)\n",
      "Requirement already satisfied: soupsieve>1.2 in /Users/stuartpaton/miniconda3/lib/python3.9/site-packages (from beautifulsoup4) (2.3.2.post1)\n",
      "Requirement already satisfied: certifi>=2017.4.17 in /Users/stuartpaton/miniconda3/lib/python3.9/site-packages (from requests) (2022.9.24)\n",
      "Requirement already satisfied: charset-normalizer~=2.0.0 in /Users/stuartpaton/miniconda3/lib/python3.9/site-packages (from requests) (2.0.4)\n",
      "Requirement already satisfied: urllib3<1.27,>=1.21.1 in /Users/stuartpaton/miniconda3/lib/python3.9/site-packages (from requests) (1.26.9)\n",
      "Requirement already satisfied: idna<4,>=2.5 in /Users/stuartpaton/miniconda3/lib/python3.9/site-packages (from requests) (3.3)\n"
     ]
    }
   ],
   "source": [
    "!pip install beautifulsoup4 requests lxml"
   ]
  },
  {
   "cell_type": "markdown",
   "id": "11cd0677-8f99-4cbd-8b4a-f1fc7baafaed",
   "metadata": {
    "jp-MarkdownHeadingCollapsed": true
   },
   "source": [
    "# Add imports"
   ]
  },
  {
   "cell_type": "code",
   "execution_count": 8,
   "id": "0ee6c19f-e91a-424d-9b35-1f1d7d4b506b",
   "metadata": {},
   "outputs": [],
   "source": [
    "import pandas as pd"
   ]
  },
  {
   "cell_type": "code",
   "execution_count": 9,
   "id": "28c21ea4-7fa3-4187-8f04-81a69b3d4dea",
   "metadata": {},
   "outputs": [],
   "source": [
    "from bs4 import BeautifulSoup\n",
    "import requests"
   ]
  },
  {
   "cell_type": "markdown",
   "id": "740cac0b-5671-4702-bb92-ccb6c81635b8",
   "metadata": {
    "jp-MarkdownHeadingCollapsed": true
   },
   "source": [
    "# Create Datasets for all pharmacies in London separated by borough"
   ]
  },
  {
   "cell_type": "markdown",
   "id": "a9465991-635f-4bac-8d19-8ead4cd777f2",
   "metadata": {},
   "source": [
    "## Download pharmacy list from https://opendata.nhsbsa.net/dataset/consolidated-pharmaceutical-list"
   ]
  },
  {
   "cell_type": "code",
   "execution_count": 13,
   "id": "407932b3-f9c0-4212-ace2-544e0915a4fb",
   "metadata": {},
   "outputs": [],
   "source": [
    "# Consolidated Pharmaceutical List: 2023-24 Q4\n",
    "# https://opendata.nhsbsa.net/dataset/240d142d-df82-4e97-b051-12371519e4e1/resource/d36c355a-631d-4ddb-bc34-5a0315565e12/download/consol_pharmacy_list_202324q4.csv\n",
    "\n",
    "CONSOLIDATED_PHARMACEUTICAL_LIST_CSV = \"https://opendata.nhsbsa.net/dataset/240d142d-df82-4e97-b051-12371519e4e1/resource/d36c355a-631d-4ddb-bc34-5a0315565e12/download/consol_pharmacy_list_202324q4.csv\"\n",
    "pharmacy_df = pd.read_csv(CONSOLIDATED_PHARMACEUTICAL_LIST_CSV)"
   ]
  },
  {
   "cell_type": "markdown",
   "id": "6442b47d-d3cd-4e57-b13c-2b0c45897780",
   "metadata": {
    "jp-MarkdownHeadingCollapsed": true
   },
   "source": [
    "## Generate London Pharmacies Dataframe"
   ]
  },
  {
   "cell_type": "code",
   "execution_count": 17,
   "id": "9c9c8468-91a3-43bf-8270-e1868a95a314",
   "metadata": {},
   "outputs": [],
   "source": [
    "lon_health_wellbeing_boards = [\"CITY OF LONDON\", \"KENSINGTON AND CHELSEA\", \"BRENT\", \"HAMMERSMITH AND FULHAM\", \"HOUNSLOW\", \"ISLINGTON\", \"SUTTON\", \"WALTHAM FOREST\", \"KINGSTON\", \"BARNET\", \"SOUTHWARK\", \"CAMDEN\", \"HILLINGDON\", \"WESTMINSTER\", \"CROYDON\", \"HARINGEY\", \"GREENWICH\", \"LEWISHAM\", \"BARKING AND DAGENHAM\", \"MERTON\", \"LAMBETH\", \"EALING\", \"BEXLEY\", \"HARROW\", \"REDBRIDGE\", \"HAVERING\", \"HACKNEY\", \"TOWER HAMLETS\"]"
   ]
  },
  {
   "cell_type": "code",
   "execution_count": 18,
   "id": "6cec28ef-496a-4a5a-9fca-80236b64d8d2",
   "metadata": {},
   "outputs": [],
   "source": [
    "lon_pharmacy_df = pharmacy_df[[\"HEALTH_AND_WELLBEING_BOARD\", \"PHARMACY_TRADING_NAME\", \"ADDRESS_FIELD1\", \"ADDRESS_FIELD2\", \"ADDRESS_FIELD3\", \"ADDRESS_FIELD4\", \"POST_CODE\"]]"
   ]
  },
  {
   "cell_type": "code",
   "execution_count": 19,
   "id": "1b8f083a-0d55-4595-8914-2454fba98f33",
   "metadata": {},
   "outputs": [
    {
     "data": {
      "text/html": [
       "<div>\n",
       "<style scoped>\n",
       "    .dataframe tbody tr th:only-of-type {\n",
       "        vertical-align: middle;\n",
       "    }\n",
       "\n",
       "    .dataframe tbody tr th {\n",
       "        vertical-align: top;\n",
       "    }\n",
       "\n",
       "    .dataframe thead th {\n",
       "        text-align: right;\n",
       "    }\n",
       "</style>\n",
       "<table border=\"1\" class=\"dataframe\">\n",
       "  <thead>\n",
       "    <tr style=\"text-align: right;\">\n",
       "      <th></th>\n",
       "      <th>HEALTH_AND_WELLBEING_BOARD</th>\n",
       "      <th>PHARMACY_TRADING_NAME</th>\n",
       "      <th>ADDRESS_FIELD1</th>\n",
       "      <th>ADDRESS_FIELD2</th>\n",
       "      <th>ADDRESS_FIELD3</th>\n",
       "      <th>ADDRESS_FIELD4</th>\n",
       "      <th>POST_CODE</th>\n",
       "    </tr>\n",
       "  </thead>\n",
       "  <tbody>\n",
       "    <tr>\n",
       "      <th>0</th>\n",
       "      <td>STOCKPORT</td>\n",
       "      <td>ROWLANDS PHARMACY</td>\n",
       "      <td>61 ARUNDEL AVENUE</td>\n",
       "      <td>HAZEL GROVE</td>\n",
       "      <td>STOCKPORT</td>\n",
       "      <td></td>\n",
       "      <td>SK7 5LD</td>\n",
       "    </tr>\n",
       "    <tr>\n",
       "      <th>1</th>\n",
       "      <td>TOWER HAMLETS</td>\n",
       "      <td>MEDICHEM</td>\n",
       "      <td>100 WHITEHORSE LANE</td>\n",
       "      <td>STEPNEY</td>\n",
       "      <td>LONDON</td>\n",
       "      <td></td>\n",
       "      <td>E1 4LR</td>\n",
       "    </tr>\n",
       "    <tr>\n",
       "      <th>2</th>\n",
       "      <td>KENT</td>\n",
       "      <td>ALLCURES PLC</td>\n",
       "      <td>HEADCORN SURGERY</td>\n",
       "      <td>GRIGG LANE, HEADCORN</td>\n",
       "      <td>ASHFORD</td>\n",
       "      <td>KENT</td>\n",
       "      <td>TN27 9AA</td>\n",
       "    </tr>\n",
       "    <tr>\n",
       "      <th>3</th>\n",
       "      <td>NOTTINGHAMSHIRE</td>\n",
       "      <td>GALEXA PHARMACY</td>\n",
       "      <td>61 ANNESLEY ROAD</td>\n",
       "      <td>HUCKNALL</td>\n",
       "      <td>NOTTINGHAM</td>\n",
       "      <td>NOTTINGHAMSHIRE</td>\n",
       "      <td>NG15 7DR</td>\n",
       "    </tr>\n",
       "    <tr>\n",
       "      <th>4</th>\n",
       "      <td>WARWICKSHIRE</td>\n",
       "      <td>GRENDON PHARMACY</td>\n",
       "      <td>150 BOOT HILL</td>\n",
       "      <td></td>\n",
       "      <td>BADDESLEY ENSOR</td>\n",
       "      <td>WARWICKSHIRE</td>\n",
       "      <td>CV9 2EW</td>\n",
       "    </tr>\n",
       "  </tbody>\n",
       "</table>\n",
       "</div>"
      ],
      "text/plain": [
       "  HEALTH_AND_WELLBEING_BOARD PHARMACY_TRADING_NAME       ADDRESS_FIELD1  \\\n",
       "0                  STOCKPORT     ROWLANDS PHARMACY    61 ARUNDEL AVENUE   \n",
       "1              TOWER HAMLETS              MEDICHEM  100 WHITEHORSE LANE   \n",
       "2                       KENT          ALLCURES PLC     HEADCORN SURGERY   \n",
       "3            NOTTINGHAMSHIRE       GALEXA PHARMACY     61 ANNESLEY ROAD   \n",
       "4               WARWICKSHIRE      GRENDON PHARMACY        150 BOOT HILL   \n",
       "\n",
       "         ADDRESS_FIELD2   ADDRESS_FIELD3   ADDRESS_FIELD4 POST_CODE  \n",
       "0           HAZEL GROVE        STOCKPORT                    SK7 5LD  \n",
       "1               STEPNEY           LONDON                     E1 4LR  \n",
       "2  GRIGG LANE, HEADCORN          ASHFORD             KENT  TN27 9AA  \n",
       "3              HUCKNALL       NOTTINGHAM  NOTTINGHAMSHIRE  NG15 7DR  \n",
       "4                        BADDESLEY ENSOR     WARWICKSHIRE   CV9 2EW  "
      ]
     },
     "execution_count": 19,
     "metadata": {},
     "output_type": "execute_result"
    }
   ],
   "source": [
    "lon_pharmacy_df.head()"
   ]
  },
  {
   "cell_type": "code",
   "execution_count": 20,
   "id": "1ee0c4aa-4de1-4e23-8774-559854f687a2",
   "metadata": {},
   "outputs": [],
   "source": [
    "lon_pharmacy_df = lon_pharmacy_df.loc[pharmacy_df.HEALTH_AND_WELLBEING_BOARD.isin(lon_health_wellbeing_boards)]"
   ]
  },
  {
   "cell_type": "code",
   "execution_count": 22,
   "id": "d9c158cc-cbd1-4519-90d6-093dd6127ccf",
   "metadata": {},
   "outputs": [
    {
     "data": {
      "text/html": [
       "<div>\n",
       "<style scoped>\n",
       "    .dataframe tbody tr th:only-of-type {\n",
       "        vertical-align: middle;\n",
       "    }\n",
       "\n",
       "    .dataframe tbody tr th {\n",
       "        vertical-align: top;\n",
       "    }\n",
       "\n",
       "    .dataframe thead th {\n",
       "        text-align: right;\n",
       "    }\n",
       "</style>\n",
       "<table border=\"1\" class=\"dataframe\">\n",
       "  <thead>\n",
       "    <tr style=\"text-align: right;\">\n",
       "      <th></th>\n",
       "      <th>HEALTH_AND_WELLBEING_BOARD</th>\n",
       "      <th>PHARMACY_TRADING_NAME</th>\n",
       "      <th>ADDRESS_FIELD1</th>\n",
       "      <th>ADDRESS_FIELD2</th>\n",
       "      <th>ADDRESS_FIELD3</th>\n",
       "      <th>ADDRESS_FIELD4</th>\n",
       "      <th>POST_CODE</th>\n",
       "    </tr>\n",
       "  </thead>\n",
       "  <tbody>\n",
       "    <tr>\n",
       "      <th>1</th>\n",
       "      <td>TOWER HAMLETS</td>\n",
       "      <td>MEDICHEM</td>\n",
       "      <td>100 WHITEHORSE LANE</td>\n",
       "      <td>STEPNEY</td>\n",
       "      <td>LONDON</td>\n",
       "      <td></td>\n",
       "      <td>E1 4LR</td>\n",
       "    </tr>\n",
       "    <tr>\n",
       "      <th>11</th>\n",
       "      <td>HACKNEY</td>\n",
       "      <td>FA STRANGE CHEMIST</td>\n",
       "      <td>185 LOWER CLAPTON ROAD</td>\n",
       "      <td>NaN</td>\n",
       "      <td>LONDON</td>\n",
       "      <td>NaN</td>\n",
       "      <td>E5 8EQ</td>\n",
       "    </tr>\n",
       "    <tr>\n",
       "      <th>12</th>\n",
       "      <td>HAVERING</td>\n",
       "      <td>TESCO INSTORE PHARMACY</td>\n",
       "      <td>TESCO SUPERSTORE</td>\n",
       "      <td>BRIDGE ROAD</td>\n",
       "      <td>RAINHAM</td>\n",
       "      <td>ESSEX</td>\n",
       "      <td>RM13 9YZ</td>\n",
       "    </tr>\n",
       "    <tr>\n",
       "      <th>16</th>\n",
       "      <td>REDBRIDGE</td>\n",
       "      <td>WELL</td>\n",
       "      <td>2 JUBILEE PARADE</td>\n",
       "      <td>SNAKES LANE</td>\n",
       "      <td>WOODFORD GREEN</td>\n",
       "      <td>ESSEX</td>\n",
       "      <td>IG8 7QF</td>\n",
       "    </tr>\n",
       "    <tr>\n",
       "      <th>20</th>\n",
       "      <td>HARROW</td>\n",
       "      <td>FAIRVIEW PHARMACY</td>\n",
       "      <td>293-5 BURNT OAK BROADWAY</td>\n",
       "      <td></td>\n",
       "      <td>EDGWARE</td>\n",
       "      <td>MIDDLESEX</td>\n",
       "      <td>HA8 5ED</td>\n",
       "    </tr>\n",
       "  </tbody>\n",
       "</table>\n",
       "</div>"
      ],
      "text/plain": [
       "   HEALTH_AND_WELLBEING_BOARD   PHARMACY_TRADING_NAME  \\\n",
       "1               TOWER HAMLETS                MEDICHEM   \n",
       "11                    HACKNEY      FA STRANGE CHEMIST   \n",
       "12                   HAVERING  TESCO INSTORE PHARMACY   \n",
       "16                  REDBRIDGE                    WELL   \n",
       "20                     HARROW       FAIRVIEW PHARMACY   \n",
       "\n",
       "              ADDRESS_FIELD1 ADDRESS_FIELD2  ADDRESS_FIELD3 ADDRESS_FIELD4  \\\n",
       "1        100 WHITEHORSE LANE        STEPNEY          LONDON                  \n",
       "11    185 LOWER CLAPTON ROAD            NaN          LONDON            NaN   \n",
       "12          TESCO SUPERSTORE    BRIDGE ROAD         RAINHAM          ESSEX   \n",
       "16          2 JUBILEE PARADE    SNAKES LANE  WOODFORD GREEN          ESSEX   \n",
       "20  293-5 BURNT OAK BROADWAY                        EDGWARE      MIDDLESEX   \n",
       "\n",
       "   POST_CODE  \n",
       "1     E1 4LR  \n",
       "11    E5 8EQ  \n",
       "12  RM13 9YZ  \n",
       "16   IG8 7QF  \n",
       "20   HA8 5ED  "
      ]
     },
     "execution_count": 22,
     "metadata": {},
     "output_type": "execute_result"
    }
   ],
   "source": [
    "lon_pharmacy_df.head()"
   ]
  },
  {
   "cell_type": "markdown",
   "id": "6ee820f2-8940-422a-aa18-a6390cafa8d7",
   "metadata": {
    "jp-MarkdownHeadingCollapsed": true
   },
   "source": [
    "## Create Dataframe for each London borough from London Pharmacies Dataframe"
   ]
  },
  {
   "cell_type": "code",
   "execution_count": 26,
   "id": "41a7436c-97b0-4b17-a6f3-46c53f7588fa",
   "metadata": {},
   "outputs": [],
   "source": [
    "def create_borough_df(borough_name):\n",
    "    return lon_pharmacy_df.loc[lon_pharmacy_df.HEALTH_AND_WELLBEING_BOARD.isin([borough_name])]"
   ]
  },
  {
   "cell_type": "code",
   "execution_count": 34,
   "id": "fa7188f9-7242-4169-b3b3-7c7d2b7e0795",
   "metadata": {},
   "outputs": [],
   "source": [
    "# Create df for each London health and wellbeing board\n",
    "\n",
    "barnet_pharmacy_df = create_borough_df(\"BARNET\")\n",
    "barking_and_dagenham_pharmacy_df = create_borough_df(\"BARKING AND DAGENHAM\")\n",
    "bexley_pharmacy_df = create_borough_df(\"BEXLEY\")\n",
    "brent_pharmacy_df = create_borough_df(\"BRENT\")\n",
    "\n",
    "camden_pharmacy_df = create_borough_df(\"CAMDEN\")\n",
    "city_of_london_pharmacy_df = create_borough_df(\"CITY OF LONDON\")\n",
    "croydon_pharmacy_df = create_borough_df(\"CROYDON\")\n",
    "\n",
    "ealing_pharmacy_df = create_borough_df(\"EALING\")\n",
    "\n",
    "greenwich_pharmacy_df = create_borough_df(\"GREENWICH\")\n",
    "\n",
    "hackney_pharmacy_df = create_borough_df(\"HACKNEY\")\n",
    "haringey_pharmacy_df = create_borough_df(\"HARINGEY\")\n",
    "hammersmith_and_fulham_pharmacy_df = create_borough_df(\"HAMMERSMITH AND FULHAM\")\n",
    "harrow_pharmacy_df = create_borough_df(\"HARROW\")\n",
    "havering_pharmacy_df = create_borough_df(\"HAVERING\")\n",
    "hillingdon_pharmacy_df = create_borough_df(\"HILLINGDON\")\n",
    "hounslow_pharmacy_df = create_borough_df(\"HOUNSLOW\")\n",
    "\n",
    "islington_pharmacy_df = create_borough_df(\"ISLINGTON\")\n",
    "\n",
    "kensington_and_chelsea_pharmacy_df = create_borough_df(\"KENSINGTON AND CHELSEA\")\n",
    "kingston_pharmacy_df = create_borough_df(\"KINGSTON\")\n",
    "\n",
    "lambeth_pharmacy_df = create_borough_df(\"LAMBETH\")\n",
    "lewisham_pharmacy_df = create_borough_df(\"LEWISHAM\")\n",
    "\n",
    "merton_pharmacy_df = create_borough_df(\"MERTON\")\n",
    "\n",
    "redbridge_pharmacy_df = create_borough_df(\"REDBRIDGE\")\n",
    "\n",
    "southwark_pharmacy_df = create_borough_df(\"SOUTHWARK\")\n",
    "sutton_pharmacy_df = create_borough_df(\"SUTTON\")\n",
    "\n",
    "tower_hamlets_pharmacy_df = create_borough_df(\"TOWER HAMLETS\")\n",
    "\n",
    "waltham_forest_pharmacy_df = create_borough_df(\"WALTHAM FOREST\")\n",
    "westminster_pharmacy_df = create_borough_df(\"WESTMINSTER\")"
   ]
  },
  {
   "cell_type": "markdown",
   "id": "833b653a-b18f-4195-93b8-a953c7d1beec",
   "metadata": {},
   "source": [
    "# Scrape phone numbers from Google and add to data set"
   ]
  },
  {
   "cell_type": "code",
   "execution_count": 12,
   "id": "5e06eacb-25f0-4c60-aedc-48e8bb41c4a3",
   "metadata": {},
   "outputs": [],
   "source": [
    "headers = {\n",
    "  \"User-Agent\":\n",
    "  \"Mozilla/5.0 (Windows NT 10.0; Win64; x64) AppleWebKit/537.36 (KHTML, like Gecko) Chrome/70.0.3538.102 Safari/537.36 Edge/18.19582\"\n",
    "}\n",
    "\n",
    "params = {\n",
    "  \"hl\": \"en\",\n",
    "  \"gl\": \"uk\" # contry to search from. uk = United Kingdom. us = United States\n",
    "}\n",
    "\n",
    "query = \"university of glasgow\"\n",
    "query = f\"https://www.google.com/search?q={query} phone\"\n",
    "\n",
    "response = requests.get(query, headers=headers, params=params)\n",
    "response.encoding='utf-8'"
   ]
  },
  {
   "cell_type": "code",
   "execution_count": 56,
   "id": "792fde5f-98bd-424d-b0a8-095d91ce58d1",
   "metadata": {},
   "outputs": [],
   "source": [
    "for name in borough_dataframes:\n",
    "    df_var_name = retrieve_name(name)\n",
    "    csv_name = df_var_name.replace('_pharmacy_df', '')\n",
    "    name.to_csv('./' + csv_name + '_pharmacies.csv')"
   ]
  },
  {
   "cell_type": "code",
   "execution_count": 13,
   "id": "ee8a1ed3-1a09-49d1-babe-02c9bafbf729",
   "metadata": {},
   "outputs": [
    {
     "ename": "FeatureNotFound",
     "evalue": "Couldn't find a tree builder with the features you requested: lxml. Do you need to install a parser library?",
     "output_type": "error",
     "traceback": [
      "\u001b[0;31m---------------------------------------------------------------------------\u001b[0m",
      "\u001b[0;31mFeatureNotFound\u001b[0m                           Traceback (most recent call last)",
      "Cell \u001b[0;32mIn[13], line 2\u001b[0m\n\u001b[1;32m      1\u001b[0m page \u001b[38;5;241m=\u001b[39m response\u001b[38;5;241m.\u001b[39mtext\n\u001b[0;32m----> 2\u001b[0m soup \u001b[38;5;241m=\u001b[39m \u001b[43mBeautifulSoup\u001b[49m\u001b[43m(\u001b[49m\u001b[43mpage\u001b[49m\u001b[43m,\u001b[49m\u001b[43m \u001b[49m\u001b[38;5;124;43m'\u001b[39;49m\u001b[38;5;124;43mlxml\u001b[39;49m\u001b[38;5;124;43m'\u001b[39;49m\u001b[43m)\u001b[49m\n\u001b[1;32m      4\u001b[0m \u001b[38;5;28;01mtry\u001b[39;00m:\n\u001b[1;32m      5\u001b[0m     phone \u001b[38;5;241m=\u001b[39m soup\u001b[38;5;241m.\u001b[39mselect_one(\u001b[38;5;124m\"\u001b[39m\u001b[38;5;124m.pwimAb\u001b[39m\u001b[38;5;124m\"\u001b[39m)\u001b[38;5;241m.\u001b[39mtext\n",
      "File \u001b[0;32m/opt/homebrew/Cellar/jupyterlab/4.1.6_1/libexec/lib/python3.12/site-packages/bs4/__init__.py:250\u001b[0m, in \u001b[0;36mBeautifulSoup.__init__\u001b[0;34m(self, markup, features, builder, parse_only, from_encoding, exclude_encodings, element_classes, **kwargs)\u001b[0m\n\u001b[1;32m    248\u001b[0m     builder_class \u001b[38;5;241m=\u001b[39m builder_registry\u001b[38;5;241m.\u001b[39mlookup(\u001b[38;5;241m*\u001b[39mfeatures)\n\u001b[1;32m    249\u001b[0m     \u001b[38;5;28;01mif\u001b[39;00m builder_class \u001b[38;5;129;01mis\u001b[39;00m \u001b[38;5;28;01mNone\u001b[39;00m:\n\u001b[0;32m--> 250\u001b[0m         \u001b[38;5;28;01mraise\u001b[39;00m FeatureNotFound(\n\u001b[1;32m    251\u001b[0m             \u001b[38;5;124m\"\u001b[39m\u001b[38;5;124mCouldn\u001b[39m\u001b[38;5;124m'\u001b[39m\u001b[38;5;124mt find a tree builder with the features you \u001b[39m\u001b[38;5;124m\"\u001b[39m\n\u001b[1;32m    252\u001b[0m             \u001b[38;5;124m\"\u001b[39m\u001b[38;5;124mrequested: \u001b[39m\u001b[38;5;132;01m%s\u001b[39;00m\u001b[38;5;124m. Do you need to install a parser library?\u001b[39m\u001b[38;5;124m\"\u001b[39m\n\u001b[1;32m    253\u001b[0m             \u001b[38;5;241m%\u001b[39m \u001b[38;5;124m\"\u001b[39m\u001b[38;5;124m,\u001b[39m\u001b[38;5;124m\"\u001b[39m\u001b[38;5;241m.\u001b[39mjoin(features))\n\u001b[1;32m    255\u001b[0m \u001b[38;5;66;03m# At this point either we have a TreeBuilder instance in\u001b[39;00m\n\u001b[1;32m    256\u001b[0m \u001b[38;5;66;03m# builder, or we have a builder_class that we can instantiate\u001b[39;00m\n\u001b[1;32m    257\u001b[0m \u001b[38;5;66;03m# with the remaining **kwargs.\u001b[39;00m\n\u001b[1;32m    258\u001b[0m \u001b[38;5;28;01mif\u001b[39;00m builder \u001b[38;5;129;01mis\u001b[39;00m \u001b[38;5;28;01mNone\u001b[39;00m:\n",
      "\u001b[0;31mFeatureNotFound\u001b[0m: Couldn't find a tree builder with the features you requested: lxml. Do you need to install a parser library?"
     ]
    }
   ],
   "source": [
    "page = response.text\n",
    "soup = BeautifulSoup(page, 'lxml')\n",
    "\n",
    "try:\n",
    "    phone = soup.select_one(\".pwimAb\").text\n",
    "except: phone = \"not found\"\n",
    "print(phone)"
   ]
  },
  {
   "cell_type": "markdown",
   "id": "3f30004a-8921-4893-a6d6-83d89a5e0ded",
   "metadata": {},
   "source": [
    "# Create CSV for each borough"
   ]
  },
  {
   "cell_type": "code",
   "execution_count": 50,
   "id": "2fb9fe51-2022-4686-a090-cffda963b6d5",
   "metadata": {},
   "outputs": [],
   "source": [
    "import inspect\n",
    "\n",
    "def retrieve_name(var):\n",
    "    callers_local_vars = inspect.currentframe().f_back.f_locals.items()\n",
    "    names = [var_name for var_name, var_val in callers_local_vars if var_val is var]\n",
    "    if len(names) > 0:\n",
    "            return names[0]"
   ]
  },
  {
   "cell_type": "code",
   "execution_count": 51,
   "id": "3befcaef-a32b-4603-85ce-2c91515d4ee2",
   "metadata": {},
   "outputs": [],
   "source": [
    "borough_dataframes = [\n",
    "    barnet_pharmacy_df,\n",
    "    barking_and_dagenham_pharmacy_df,\n",
    "    bexley_pharmacy_df,\n",
    "    brent_pharmacy_df,\n",
    "    camden_pharmacy_df,\n",
    "    city_of_london_pharmacy_df,\n",
    "    croydon_pharmacy_df,\n",
    "    ealing_pharmacy_df,\n",
    "    greenwich_pharmacy_df,\n",
    "    hackney_pharmacy_df,\n",
    "    haringey_pharmacy_df,\n",
    "    hammersmith_and_fulham_pharmacy_df,\n",
    "    harrow_pharmacy_df,\n",
    "    havering_pharmacy_df,\n",
    "    hillingdon_pharmacy_df,\n",
    "    hounslow_pharmacy_df,\n",
    "    islington_pharmacy_df,\n",
    "    kensington_and_chelsea_pharmacy_df,\n",
    "    kingston_pharmacy_df,\n",
    "    lambeth_pharmacy_df,\n",
    "    lewisham_pharmacy_df,\n",
    "    merton_pharmacy_df,\n",
    "    redbridge_pharmacy_df,\n",
    "    southwark_pharmacy_df,\n",
    "    sutton_pharmacy_df,\n",
    "    tower_hamlets_pharmacy_df,\n",
    "    waltham_forest_pharmacy_df,\n",
    "    westminster_pharmacy_df\n",
    "]"
   ]
  }
 ],
 "metadata": {
  "kernelspec": {
   "display_name": "Python 3 (ipykernel)",
   "language": "python",
   "name": "python3"
  },
  "language_info": {
   "codemirror_mode": {
    "name": "ipython",
    "version": 3
   },
   "file_extension": ".py",
   "mimetype": "text/x-python",
   "name": "python",
   "nbconvert_exporter": "python",
   "pygments_lexer": "ipython3",
   "version": "3.12.3"
  }
 },
 "nbformat": 4,
 "nbformat_minor": 5
}
