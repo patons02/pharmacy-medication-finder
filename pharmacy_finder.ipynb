{
 "cells": [
  {
   "cell_type": "markdown",
   "id": "4d6fecbe-b90c-42c0-8d8a-63581c5f2cea",
   "metadata": {
    "jp-MarkdownHeadingCollapsed": true
   },
   "source": [
    "# Install dependencies"
   ]
  },
  {
   "cell_type": "code",
   "execution_count": 57,
   "id": "8d9b5b59-8d81-4803-84ce-e371164ddf03",
   "metadata": {},
   "outputs": [
    {
     "name": "stdout",
     "output_type": "stream",
     "text": [
      "Requirement already satisfied: pandas in /Users/stuartpaton/miniconda3/lib/python3.9/site-packages (1.4.4)\n",
      "Requirement already satisfied: ipython-sql in /Users/stuartpaton/miniconda3/lib/python3.9/site-packages (0.5.0)\n",
      "Requirement already satisfied: python-dateutil>=2.8.1 in /Users/stuartpaton/miniconda3/lib/python3.9/site-packages (from pandas) (2.8.2)\n",
      "Requirement already satisfied: pytz>=2020.1 in /Users/stuartpaton/miniconda3/lib/python3.9/site-packages (from pandas) (2022.4)\n",
      "Requirement already satisfied: numpy>=1.20.0 in /Users/stuartpaton/miniconda3/lib/python3.9/site-packages (from pandas) (1.23.3)\n",
      "Requirement already satisfied: sqlparse in /Users/stuartpaton/miniconda3/lib/python3.9/site-packages (from ipython-sql) (0.5.0)\n",
      "Requirement already satisfied: six in /Users/stuartpaton/miniconda3/lib/python3.9/site-packages (from ipython-sql) (1.16.0)\n",
      "Requirement already satisfied: prettytable in /Users/stuartpaton/miniconda3/lib/python3.9/site-packages (from ipython-sql) (3.10.0)\n",
      "Requirement already satisfied: sqlalchemy>=2.0 in /Users/stuartpaton/miniconda3/lib/python3.9/site-packages (from ipython-sql) (2.0.30)\n",
      "Requirement already satisfied: ipython in /Users/stuartpaton/miniconda3/lib/python3.9/site-packages (from ipython-sql) (8.5.0)\n",
      "Requirement already satisfied: ipython-genutils in /Users/stuartpaton/miniconda3/lib/python3.9/site-packages (from ipython-sql) (0.2.0)\n",
      "Requirement already satisfied: typing-extensions>=4.6.0 in /Users/stuartpaton/miniconda3/lib/python3.9/site-packages (from sqlalchemy>=2.0->ipython-sql) (4.11.0)\n",
      "Requirement already satisfied: pickleshare in /Users/stuartpaton/miniconda3/lib/python3.9/site-packages (from ipython->ipython-sql) (0.7.5)\n",
      "Requirement already satisfied: decorator in /Users/stuartpaton/miniconda3/lib/python3.9/site-packages (from ipython->ipython-sql) (5.1.1)\n",
      "Requirement already satisfied: pygments>=2.4.0 in /Users/stuartpaton/miniconda3/lib/python3.9/site-packages (from ipython->ipython-sql) (2.13.0)\n",
      "Requirement already satisfied: prompt-toolkit<3.1.0,>3.0.1 in /Users/stuartpaton/miniconda3/lib/python3.9/site-packages (from ipython->ipython-sql) (3.0.31)\n",
      "Requirement already satisfied: traitlets>=5 in /Users/stuartpaton/miniconda3/lib/python3.9/site-packages (from ipython->ipython-sql) (5.4.0)\n",
      "Requirement already satisfied: jedi>=0.16 in /Users/stuartpaton/miniconda3/lib/python3.9/site-packages (from ipython->ipython-sql) (0.18.1)\n",
      "Requirement already satisfied: pexpect>4.3 in /Users/stuartpaton/miniconda3/lib/python3.9/site-packages (from ipython->ipython-sql) (4.8.0)\n",
      "Requirement already satisfied: stack-data in /Users/stuartpaton/miniconda3/lib/python3.9/site-packages (from ipython->ipython-sql) (0.5.1)\n",
      "Requirement already satisfied: appnope in /Users/stuartpaton/miniconda3/lib/python3.9/site-packages (from ipython->ipython-sql) (0.1.3)\n",
      "Requirement already satisfied: backcall in /Users/stuartpaton/miniconda3/lib/python3.9/site-packages (from ipython->ipython-sql) (0.2.0)\n",
      "Requirement already satisfied: matplotlib-inline in /Users/stuartpaton/miniconda3/lib/python3.9/site-packages (from ipython->ipython-sql) (0.1.6)\n",
      "Requirement already satisfied: parso<0.9.0,>=0.8.0 in /Users/stuartpaton/miniconda3/lib/python3.9/site-packages (from jedi>=0.16->ipython->ipython-sql) (0.8.3)\n",
      "Requirement already satisfied: ptyprocess>=0.5 in /Users/stuartpaton/miniconda3/lib/python3.9/site-packages (from pexpect>4.3->ipython->ipython-sql) (0.7.0)\n",
      "Requirement already satisfied: wcwidth in /Users/stuartpaton/miniconda3/lib/python3.9/site-packages (from prompt-toolkit<3.1.0,>3.0.1->ipython->ipython-sql) (0.2.5)\n",
      "Requirement already satisfied: pure-eval in /Users/stuartpaton/miniconda3/lib/python3.9/site-packages (from stack-data->ipython->ipython-sql) (0.2.2)\n",
      "Requirement already satisfied: executing in /Users/stuartpaton/miniconda3/lib/python3.9/site-packages (from stack-data->ipython->ipython-sql) (1.1.1)\n",
      "Requirement already satisfied: asttokens in /Users/stuartpaton/miniconda3/lib/python3.9/site-packages (from stack-data->ipython->ipython-sql) (2.0.8)\n"
     ]
    }
   ],
   "source": [
    "!pip install pandas ipython-sql\n"
   ]
  },
  {
   "cell_type": "code",
   "execution_count": 58,
   "id": "f6bcfd87-8354-4fb4-8f70-9a733cb13a68",
   "metadata": {},
   "outputs": [
    {
     "name": "stdout",
     "output_type": "stream",
     "text": [
      "Requirement already satisfied: beautifulsoup4 in /Users/stuartpaton/miniconda3/lib/python3.9/site-packages (4.11.1)\n",
      "Requirement already satisfied: requests in /Users/stuartpaton/miniconda3/lib/python3.9/site-packages (2.27.1)\n",
      "Requirement already satisfied: lxml in /Users/stuartpaton/miniconda3/lib/python3.9/site-packages (5.2.1)\n",
      "Requirement already satisfied: soupsieve>1.2 in /Users/stuartpaton/miniconda3/lib/python3.9/site-packages (from beautifulsoup4) (2.3.2.post1)\n",
      "Requirement already satisfied: charset-normalizer~=2.0.0 in /Users/stuartpaton/miniconda3/lib/python3.9/site-packages (from requests) (2.0.4)\n",
      "Requirement already satisfied: urllib3<1.27,>=1.21.1 in /Users/stuartpaton/miniconda3/lib/python3.9/site-packages (from requests) (1.26.9)\n",
      "Requirement already satisfied: idna<4,>=2.5 in /Users/stuartpaton/miniconda3/lib/python3.9/site-packages (from requests) (3.3)\n",
      "Requirement already satisfied: certifi>=2017.4.17 in /Users/stuartpaton/miniconda3/lib/python3.9/site-packages (from requests) (2022.9.24)\n"
     ]
    }
   ],
   "source": [
    "!pip install beautifulsoup4 requests lxml"
   ]
  },
  {
   "cell_type": "markdown",
   "id": "11cd0677-8f99-4cbd-8b4a-f1fc7baafaed",
   "metadata": {
    "jp-MarkdownHeadingCollapsed": true
   },
   "source": [
    "# Add imports"
   ]
  },
  {
   "cell_type": "code",
   "execution_count": 8,
   "id": "0ee6c19f-e91a-424d-9b35-1f1d7d4b506b",
   "metadata": {},
   "outputs": [],
   "source": [
    "import pandas as pd"
   ]
  },
  {
   "cell_type": "code",
   "execution_count": 9,
   "id": "28c21ea4-7fa3-4187-8f04-81a69b3d4dea",
   "metadata": {},
   "outputs": [],
   "source": [
    "from bs4 import BeautifulSoup\n",
    "import requests"
   ]
  },
  {
   "cell_type": "markdown",
   "id": "740cac0b-5671-4702-bb92-ccb6c81635b8",
   "metadata": {},
   "source": [
    "# Create Datasets for all pharmacies in London separated by borough"
   ]
  },
  {
   "cell_type": "markdown",
   "id": "a9465991-635f-4bac-8d19-8ead4cd777f2",
   "metadata": {},
   "source": [
    "## Download pharmacy list from https://opendata.nhsbsa.net/dataset/consolidated-pharmaceutical-list"
   ]
  },
  {
   "cell_type": "code",
   "execution_count": 13,
   "id": "407932b3-f9c0-4212-ace2-544e0915a4fb",
   "metadata": {},
   "outputs": [],
   "source": [
    "# Consolidated Pharmaceutical List: 2023-24 Q4\n",
    "# https://opendata.nhsbsa.net/dataset/240d142d-df82-4e97-b051-12371519e4e1/resource/d36c355a-631d-4ddb-bc34-5a0315565e12/download/consol_pharmacy_list_202324q4.csv\n",
    "\n",
    "CONSOLIDATED_PHARMACEUTICAL_LIST_CSV = \"https://opendata.nhsbsa.net/dataset/240d142d-df82-4e97-b051-12371519e4e1/resource/d36c355a-631d-4ddb-bc34-5a0315565e12/download/consol_pharmacy_list_202324q4.csv\"\n",
    "pharmacy_df = pd.read_csv(CONSOLIDATED_PHARMACEUTICAL_LIST_CSV)"
   ]
  },
  {
   "cell_type": "markdown",
   "id": "6442b47d-d3cd-4e57-b13c-2b0c45897780",
   "metadata": {},
   "source": [
    "## Generate London Pharmacies Dataframe"
   ]
  },
  {
   "cell_type": "code",
   "execution_count": 17,
   "id": "9c9c8468-91a3-43bf-8270-e1868a95a314",
   "metadata": {},
   "outputs": [],
   "source": [
    "lon_health_wellbeing_boards = [\"CITY OF LONDON\", \"KENSINGTON AND CHELSEA\", \"BRENT\", \"HAMMERSMITH AND FULHAM\", \"HOUNSLOW\", \"ISLINGTON\", \"SUTTON\", \"WALTHAM FOREST\", \"KINGSTON\", \"BARNET\", \"SOUTHWARK\", \"CAMDEN\", \"HILLINGDON\", \"WESTMINSTER\", \"CROYDON\", \"HARINGEY\", \"GREENWICH\", \"LEWISHAM\", \"BARKING AND DAGENHAM\", \"MERTON\", \"LAMBETH\", \"EALING\", \"BEXLEY\", \"HARROW\", \"REDBRIDGE\", \"HAVERING\", \"HACKNEY\", \"TOWER HAMLETS\"]"
   ]
  },
  {
   "cell_type": "code",
   "execution_count": 128,
   "id": "6cec28ef-496a-4a5a-9fca-80236b64d8d2",
   "metadata": {},
   "outputs": [],
   "source": [
    "lon_pharmacy_df = pharmacy_df[[\"PHARMACY_ODS_CODE_(F-CODE)\", \"HEALTH_AND_WELLBEING_BOARD\", \"PHARMACY_TRADING_NAME\", \"ADDRESS_FIELD1\", \"ADDRESS_FIELD2\", \"ADDRESS_FIELD3\", \"ADDRESS_FIELD4\", \"POST_CODE\"]]"
   ]
  },
  {
   "cell_type": "code",
   "execution_count": 130,
   "id": "1ee0c4aa-4de1-4e23-8774-559854f687a2",
   "metadata": {},
   "outputs": [],
   "source": [
    "lon_pharmacy_df = lon_pharmacy_df.loc[pharmacy_df.HEALTH_AND_WELLBEING_BOARD.isin(lon_health_wellbeing_boards)]"
   ]
  },
  {
   "cell_type": "markdown",
   "id": "6ee820f2-8940-422a-aa18-a6390cafa8d7",
   "metadata": {},
   "source": [
    "## Create Dataframe for each London borough from London Pharmacies Dataframe"
   ]
  },
  {
   "cell_type": "code",
   "execution_count": 132,
   "id": "41a7436c-97b0-4b17-a6f3-46c53f7588fa",
   "metadata": {},
   "outputs": [],
   "source": [
    "def create_borough_df(borough_name):\n",
    "    return lon_pharmacy_df.loc[lon_pharmacy_df.HEALTH_AND_WELLBEING_BOARD.isin([borough_name])]"
   ]
  },
  {
   "cell_type": "code",
   "execution_count": 133,
   "id": "fa7188f9-7242-4169-b3b3-7c7d2b7e0795",
   "metadata": {},
   "outputs": [],
   "source": [
    "# Create df for each London health and wellbeing board\n",
    "\n",
    "barnet_pharmacy_df = create_borough_df(\"BARNET\")\n",
    "barking_and_dagenham_pharmacy_df = create_borough_df(\"BARKING AND DAGENHAM\")\n",
    "bexley_pharmacy_df = create_borough_df(\"BEXLEY\")\n",
    "brent_pharmacy_df = create_borough_df(\"BRENT\")\n",
    "\n",
    "camden_pharmacy_df = create_borough_df(\"CAMDEN\")\n",
    "city_of_london_pharmacy_df = create_borough_df(\"CITY OF LONDON\")\n",
    "croydon_pharmacy_df = create_borough_df(\"CROYDON\")\n",
    "\n",
    "ealing_pharmacy_df = create_borough_df(\"EALING\")\n",
    "\n",
    "greenwich_pharmacy_df = create_borough_df(\"GREENWICH\")\n",
    "\n",
    "hackney_pharmacy_df = create_borough_df(\"HACKNEY\")\n",
    "haringey_pharmacy_df = create_borough_df(\"HARINGEY\")\n",
    "hammersmith_and_fulham_pharmacy_df = create_borough_df(\"HAMMERSMITH AND FULHAM\")\n",
    "harrow_pharmacy_df = create_borough_df(\"HARROW\")\n",
    "havering_pharmacy_df = create_borough_df(\"HAVERING\")\n",
    "hillingdon_pharmacy_df = create_borough_df(\"HILLINGDON\")\n",
    "hounslow_pharmacy_df = create_borough_df(\"HOUNSLOW\")\n",
    "\n",
    "islington_pharmacy_df = create_borough_df(\"ISLINGTON\")\n",
    "\n",
    "kensington_and_chelsea_pharmacy_df = create_borough_df(\"KENSINGTON AND CHELSEA\")\n",
    "kingston_pharmacy_df = create_borough_df(\"KINGSTON\")\n",
    "\n",
    "lambeth_pharmacy_df = create_borough_df(\"LAMBETH\")\n",
    "lewisham_pharmacy_df = create_borough_df(\"LEWISHAM\")\n",
    "\n",
    "merton_pharmacy_df = create_borough_df(\"MERTON\")\n",
    "\n",
    "redbridge_pharmacy_df = create_borough_df(\"REDBRIDGE\")\n",
    "\n",
    "southwark_pharmacy_df = create_borough_df(\"SOUTHWARK\")\n",
    "sutton_pharmacy_df = create_borough_df(\"SUTTON\")\n",
    "\n",
    "tower_hamlets_pharmacy_df = create_borough_df(\"TOWER HAMLETS\")\n",
    "\n",
    "waltham_forest_pharmacy_df = create_borough_df(\"WALTHAM FOREST\")\n",
    "westminster_pharmacy_df = create_borough_df(\"WESTMINSTER\")"
   ]
  },
  {
   "cell_type": "markdown",
   "id": "833b653a-b18f-4195-93b8-a953c7d1beec",
   "metadata": {},
   "source": [
    "# Scrape phone numbers from NHS and add to data set"
   ]
  },
  {
   "cell_type": "code",
   "execution_count": 248,
   "id": "c852f8a0-f2bc-4b8c-98af-7d6fccfc8c19",
   "metadata": {},
   "outputs": [],
   "source": [
    "def get_phone_number(pharmacy_ods_code, pharmacy_trading_name):\n",
    "    \n",
    "    pharmacy_trading_name = pharmacy_trading_name.lower()\n",
    "    pharmacy_trading_name = pharmacy_trading_name.replace(\" \", \"-\")\n",
    "    \n",
    "    query = f\"https://www.nhs.uk/services/pharmacy/{pharmacy_trading_name}/{pharmacy_ods_code}\"\n",
    "    response = requests.get(query)\n",
    "    soup = BeautifulSoup(response.text, 'html.parser')\n",
    "    \n",
    "    return soup.find(\"p\", {\"id\": \"contact_info_panel_phone_text\"}).getText()\n",
    "\n",
    "def phone_number_with_country_code_and_no_spaces(phone_number):\n",
    "    phone_number = phone_number.replace(\" \", \"\")\n",
    "    return phone_number.replace(\"0\", \"+44\", 1)"
   ]
  },
  {
   "cell_type": "code",
   "execution_count": 246,
   "id": "d264e2b5-6598-4048-ae0b-bcec69ae2c83",
   "metadata": {},
   "outputs": [
    {
     "name": "stdout",
     "output_type": "stream",
     "text": [
      "020 7247 6729\n"
     ]
    }
   ],
   "source": [
    "ods_code, pharmacy_name = tower_hamlets_pharmacy_df[[\"PHARMACY_ODS_CODE_(F-CODE)\", \"PHARMACY_TRADING_NAME\"]].iloc[3]"
   ]
  },
  {
   "cell_type": "code",
   "execution_count": 231,
   "id": "349ef527-e07f-47e7-acaa-62d8e7d0eb96",
   "metadata": {},
   "outputs": [
    {
     "ename": "TypeError",
     "evalue": "tuple indices must be integers or slices, not list",
     "output_type": "error",
     "traceback": [
      "\u001b[0;31m---------------------------------------------------------------------------\u001b[0m",
      "\u001b[0;31mTypeError\u001b[0m                                 Traceback (most recent call last)",
      "Cell \u001b[0;32mIn[231], line 2\u001b[0m\n\u001b[1;32m      1\u001b[0m \u001b[38;5;28;01mfor\u001b[39;00m row \u001b[38;5;129;01min\u001b[39;00m tower_hamlets_pharmacy_df\u001b[38;5;241m.\u001b[39miterrows():\n\u001b[0;32m----> 2\u001b[0m     \u001b[38;5;28mprint\u001b[39m(\u001b[43mrow\u001b[49m\u001b[43m[\u001b[49m\u001b[43m[\u001b[49m\u001b[38;5;241;43m0\u001b[39;49m\u001b[43m]\u001b[49m\u001b[43m]\u001b[49m)\n\u001b[1;32m      3\u001b[0m     pharmacy_name \u001b[38;5;241m=\u001b[39m pharmacy_name\u001b[38;5;241m.\u001b[39mlower()\n\u001b[1;32m      4\u001b[0m     pharmacy_name \u001b[38;5;241m=\u001b[39m pharmacy_name\u001b[38;5;241m.\u001b[39mreplace(\u001b[38;5;124m\"\u001b[39m\u001b[38;5;124m \u001b[39m\u001b[38;5;124m\"\u001b[39m, \u001b[38;5;124m\"\u001b[39m\u001b[38;5;124m-\u001b[39m\u001b[38;5;124m\"\u001b[39m)\n",
      "\u001b[0;31mTypeError\u001b[0m: tuple indices must be integers or slices, not list"
     ]
    }
   ],
   "source": [
    "for row in tower_hamlets_pharmacy_df.iterrows():\n",
    "    \n",
    "    phone_number = get_phone_number(ods_code, pharmacy_name)\n",
    "    phone_number = phone_number_with_country_code_and_no_spaces(phone_number)\n",
    "    print(phone_number)"
   ]
  },
  {
   "cell_type": "code",
   "execution_count": 249,
   "id": "5cb10d36-b2f0-4947-ac8d-30d9ad2f3853",
   "metadata": {},
   "outputs": [
    {
     "name": "stdout",
     "output_type": "stream",
     "text": [
      "020 7247 6729\n",
      "+442072476729\n"
     ]
    }
   ],
   "source": [
    "# transform phone number for df\n",
    "phone_number = get_phone_number(ods_code, pharmacy_name)\n",
    "print(phone_number)\n",
    "phone_number = phone_number_with_country_code_and_no_spaces(phone_number)\n",
    "print(phone_number)"
   ]
  },
  {
   "cell_type": "code",
   "execution_count": 218,
   "id": "13eebeef-c8a0-4aa2-95fb-769503794391",
   "metadata": {},
   "outputs": [],
   "source": [
    "row_index = tower_hamlets_pharmacy_df.index[3]\n",
    "tower_hamlets_pharmacy_df.loc[row_index, 'PHONE_NUMBER'] = phone_number"
   ]
  },
  {
   "cell_type": "markdown",
   "id": "3f30004a-8921-4893-a6d6-83d89a5e0ded",
   "metadata": {},
   "source": [
    "# Create CSV for each borough"
   ]
  },
  {
   "cell_type": "code",
   "execution_count": 219,
   "id": "2fb9fe51-2022-4686-a090-cffda963b6d5",
   "metadata": {},
   "outputs": [],
   "source": [
    "import inspect\n",
    "\n",
    "def retrieve_name(var):\n",
    "    callers_local_vars = inspect.currentframe().f_back.f_locals.items()\n",
    "    names = [var_name for var_name, var_val in callers_local_vars if var_val is var]\n",
    "    if len(names) > 0:\n",
    "            return names[0]"
   ]
  },
  {
   "cell_type": "code",
   "execution_count": 220,
   "id": "3befcaef-a32b-4603-85ce-2c91515d4ee2",
   "metadata": {},
   "outputs": [],
   "source": [
    "borough_dataframes = [\n",
    "    barnet_pharmacy_df,\n",
    "    barking_and_dagenham_pharmacy_df,\n",
    "    bexley_pharmacy_df,\n",
    "    brent_pharmacy_df,\n",
    "    camden_pharmacy_df,\n",
    "    city_of_london_pharmacy_df,\n",
    "    croydon_pharmacy_df,\n",
    "    ealing_pharmacy_df,\n",
    "    greenwich_pharmacy_df,\n",
    "    hackney_pharmacy_df,\n",
    "    haringey_pharmacy_df,\n",
    "    hammersmith_and_fulham_pharmacy_df,\n",
    "    harrow_pharmacy_df,\n",
    "    havering_pharmacy_df,\n",
    "    hillingdon_pharmacy_df,\n",
    "    hounslow_pharmacy_df,\n",
    "    islington_pharmacy_df,\n",
    "    kensington_and_chelsea_pharmacy_df,\n",
    "    kingston_pharmacy_df,\n",
    "    lambeth_pharmacy_df,\n",
    "    lewisham_pharmacy_df,\n",
    "    merton_pharmacy_df,\n",
    "    redbridge_pharmacy_df,\n",
    "    southwark_pharmacy_df,\n",
    "    sutton_pharmacy_df,\n",
    "    tower_hamlets_pharmacy_df,\n",
    "    waltham_forest_pharmacy_df,\n",
    "    westminster_pharmacy_df\n",
    "]"
   ]
  },
  {
   "cell_type": "code",
   "execution_count": 221,
   "id": "792fde5f-98bd-424d-b0a8-095d91ce58d1",
   "metadata": {},
   "outputs": [],
   "source": [
    "for name in borough_dataframes:\n",
    "    df_var_name = retrieve_name(name)\n",
    "    csv_name = df_var_name.replace('_pharmacy_df', '')\n",
    "    name.to_csv('./' + csv_name + '_pharmacies.csv')"
   ]
  }
 ],
 "metadata": {
  "kernelspec": {
   "display_name": "Python 3 (ipykernel)",
   "language": "python",
   "name": "python3"
  },
  "language_info": {
   "codemirror_mode": {
    "name": "ipython",
    "version": 3
   },
   "file_extension": ".py",
   "mimetype": "text/x-python",
   "name": "python",
   "nbconvert_exporter": "python",
   "pygments_lexer": "ipython3",
   "version": "3.12.3"
  }
 },
 "nbformat": 4,
 "nbformat_minor": 5
}
