{
 "cells": [
  {
   "cell_type": "markdown",
   "id": "39b1597c-3dff-4d9f-b081-cfe0daba45f4",
   "metadata": {},
   "source": [
    "# Prerequsites"
   ]
  },
  {
   "cell_type": "markdown",
   "id": "4d6fecbe-b90c-42c0-8d8a-63581c5f2cea",
   "metadata": {},
   "source": [
    "## Install dependencies"
   ]
  },
  {
   "cell_type": "code",
   "execution_count": null,
   "id": "8d9b5b59-8d81-4803-84ce-e371164ddf03",
   "metadata": {},
   "outputs": [],
   "source": [
    "!pip install pandas ipython-sql\n"
   ]
  },
  {
   "cell_type": "code",
   "execution_count": null,
   "id": "f6bcfd87-8354-4fb4-8f70-9a733cb13a68",
   "metadata": {},
   "outputs": [],
   "source": [
    "!pip install beautifulsoup4 requests"
   ]
  },
  {
   "cell_type": "markdown",
   "id": "3e028ffa-6f0a-4cbd-b504-5ddff2387cc7",
   "metadata": {},
   "source": [
    "## Setup Logging"
   ]
  },
  {
   "cell_type": "code",
   "execution_count": null,
   "id": "6cc7cba1-c2b8-4df6-8d5b-e1032d8d0241",
   "metadata": {},
   "outputs": [],
   "source": [
    "import logging\n",
    "\n",
    "logging.basicConfig(level=logging.INFO, format='%(asctime)s - %(levelname)s - %(message)s')"
   ]
  },
  {
   "cell_type": "markdown",
   "id": "11cd0677-8f99-4cbd-8b4a-f1fc7baafaed",
   "metadata": {},
   "source": [
    "## Add imports"
   ]
  },
  {
   "cell_type": "code",
   "execution_count": null,
   "id": "0ee6c19f-e91a-424d-9b35-1f1d7d4b506b",
   "metadata": {},
   "outputs": [],
   "source": [
    "import pandas as pd"
   ]
  },
  {
   "cell_type": "code",
   "execution_count": null,
   "id": "28c21ea4-7fa3-4187-8f04-81a69b3d4dea",
   "metadata": {},
   "outputs": [],
   "source": [
    "from bs4 import BeautifulSoup\n",
    "import requests"
   ]
  },
  {
   "cell_type": "markdown",
   "id": "740cac0b-5671-4702-bb92-ccb6c81635b8",
   "metadata": {},
   "source": [
    "# Create Datasets for all pharmacies in London separated by borough"
   ]
  },
  {
   "cell_type": "markdown",
   "id": "a9465991-635f-4bac-8d19-8ead4cd777f2",
   "metadata": {},
   "source": [
    "## Download pharmacy list from https://opendata.nhsbsa.net/dataset/consolidated-pharmaceutical-list"
   ]
  },
  {
   "cell_type": "code",
   "execution_count": null,
   "id": "407932b3-f9c0-4212-ace2-544e0915a4fb",
   "metadata": {},
   "outputs": [],
   "source": [
    "# Consolidated Pharmaceutical List: 2023-24 Q4\n",
    "# https://opendata.nhsbsa.net/dataset/240d142d-df82-4e97-b051-12371519e4e1/resource/d36c355a-631d-4ddb-bc34-5a0315565e12/download/consol_pharmacy_list_202324q4.csv\n",
    "\n",
    "CONSOLIDATED_PHARMACEUTICAL_LIST_CSV = \"https://opendata.nhsbsa.net/dataset/240d142d-df82-4e97-b051-12371519e4e1/resource/d36c355a-631d-4ddb-bc34-5a0315565e12/download/consol_pharmacy_list_202324q4.csv\"\n",
    "pharmacy_df = pd.read_csv(CONSOLIDATED_PHARMACEUTICAL_LIST_CSV)"
   ]
  },
  {
   "cell_type": "markdown",
   "id": "6442b47d-d3cd-4e57-b13c-2b0c45897780",
   "metadata": {},
   "source": [
    "## Generate London Pharmacies Dataframe"
   ]
  },
  {
   "cell_type": "code",
   "execution_count": null,
   "id": "6cec28ef-496a-4a5a-9fca-80236b64d8d2",
   "metadata": {},
   "outputs": [],
   "source": [
    "lon_pharmacy_df = pharmacy_df[[\"PHARMACY_ODS_CODE_(F-CODE)\", \"HEALTH_AND_WELLBEING_BOARD\", \"PHARMACY_TRADING_NAME\", \"ADDRESS_FIELD1\", \"ADDRESS_FIELD2\", \"ADDRESS_FIELD3\", \"ADDRESS_FIELD4\", \"POST_CODE\"]]"
   ]
  },
  {
   "cell_type": "code",
   "execution_count": null,
   "id": "9c9c8468-91a3-43bf-8270-e1868a95a314",
   "metadata": {},
   "outputs": [],
   "source": [
    "lon_health_wellbeing_boards = [\"CITY OF LONDON\", \"KENSINGTON AND CHELSEA\", \"BRENT\", \"HAMMERSMITH AND FULHAM\", \"HOUNSLOW\", \"ISLINGTON\", \"SUTTON\", \"WALTHAM FOREST\", \"KINGSTON\", \"BARNET\", \"SOUTHWARK\", \"CAMDEN\", \"HILLINGDON\", \"WESTMINSTER\", \"CROYDON\", \"HARINGEY\", \"GREENWICH\", \"LEWISHAM\", \"BARKING AND DAGENHAM\", \"MERTON\", \"LAMBETH\", \"EALING\", \"BEXLEY\", \"HARROW\", \"REDBRIDGE\", \"HAVERING\", \"HACKNEY\", \"TOWER HAMLETS\"]\n",
    "boroughs = []"
   ]
  },
  {
   "cell_type": "code",
   "execution_count": null,
   "id": "1ee0c4aa-4de1-4e23-8774-559854f687a2",
   "metadata": {},
   "outputs": [],
   "source": [
    "lon_pharmacy_df = lon_pharmacy_df.loc[pharmacy_df.HEALTH_AND_WELLBEING_BOARD.isin(lon_health_wellbeing_boards)]"
   ]
  },
  {
   "cell_type": "markdown",
   "id": "6ee820f2-8940-422a-aa18-a6390cafa8d7",
   "metadata": {},
   "source": [
    "## Create Dataframe for each London borough from London Pharmacies Dataframe"
   ]
  },
  {
   "cell_type": "code",
   "execution_count": null,
   "id": "41a7436c-97b0-4b17-a6f3-46c53f7588fa",
   "metadata": {},
   "outputs": [],
   "source": [
    "def create_borough_df(borough_name):\n",
    "    return lon_pharmacy_df.loc[lon_pharmacy_df.HEALTH_AND_WELLBEING_BOARD.isin([borough_name])]"
   ]
  },
  {
   "cell_type": "code",
   "execution_count": null,
   "id": "a501d5e7-148b-4f90-9208-a6bafd10296a",
   "metadata": {},
   "outputs": [],
   "source": [
    "for health_board in lon_health_wellbeing_boards:\n",
    "    boroughs.append(\n",
    "        {\n",
    "            \"health_board\": health_board,\n",
    "            \"df\": create_borough_df(health_board)\n",
    "        }\n",
    "    )"
   ]
  },
  {
   "cell_type": "markdown",
   "id": "833b653a-b18f-4195-93b8-a953c7d1beec",
   "metadata": {},
   "source": [
    "# Create CSV with phone numbers"
   ]
  },
  {
   "cell_type": "code",
   "execution_count": null,
   "id": "c852f8a0-f2bc-4b8c-98af-7d6fccfc8c19",
   "metadata": {},
   "outputs": [],
   "source": [
    "def get_phone_number(pharmacy_ods_code, pharmacy_trading_name):\n",
    "    \n",
    "    pharmacy_trading_name = pharmacy_trading_name.lower()\n",
    "    pharmacy_trading_name = pharmacy_trading_name.replace(\" \", \"-\")\n",
    "    \n",
    "    query = f\"https://www.nhs.uk/services/pharmacy/{pharmacy_trading_name}/{pharmacy_ods_code}\"\n",
    "    logging.info(f\"Calling URI {query}...\")\n",
    "    response = requests.get(query)\n",
    "    resp_status_code = response.status_code\n",
    "    \n",
    "    if response.status_code != 200:\n",
    "        logging.error(f\"Query failed with response code {resp_status_code}. ODS Code: {pharmacy_ods_code}. Writing empty phone number...\")\n",
    "        return \"\"\n",
    "    \n",
    "    logging.info(f\"Query successful with response code {resp_status_code}\")\n",
    "    soup = BeautifulSoup(response.text, 'html.parser')\n",
    "    try:\n",
    "        phone_number = soup.find(\"p\", {\"id\": \"contact_info_panel_phone_text\"}).getText()\n",
    "    except:\n",
    "        logging.error(f\"Soup could not find a phone number for pharmacy {pharmacy_trading_name}, {pharmacy_ods_code} at URI {query}...\")\n",
    "        return \"\"\n",
    "    return phone_number\n",
    "\n",
    "def phone_number_with_country_code_and_no_spaces(phone_number):\n",
    "    phone_number = phone_number.replace(\" \", \"\")\n",
    "    return phone_number.replace(\"0\", \"+44\", 1)"
   ]
  },
  {
   "cell_type": "code",
   "execution_count": null,
   "id": "349ef527-e07f-47e7-acaa-62d8e7d0eb96",
   "metadata": {},
   "outputs": [],
   "source": [
    "def add_phone_numbers_for_df(df):\n",
    "    phone_numbers = []\n",
    "\n",
    "    row_count = df.shape[0]\n",
    "    i = 0\n",
    "    \n",
    "    while i < row_count:\n",
    "        ods_code, pharmacy_name = df[[\"PHARMACY_ODS_CODE_(F-CODE)\", \"PHARMACY_TRADING_NAME\"]].iloc[i]\n",
    "        phone_number = get_phone_number(ods_code, pharmacy_name)\n",
    "        phone_number = phone_number_with_country_code_and_no_spaces(phone_number)\n",
    "        phone_numbers.append(phone_number)\n",
    "        i += 1\n",
    "    \n",
    "    df.loc[:, \"PHONE_NUMBER\"] = phone_numbers"
   ]
  },
  {
   "cell_type": "code",
   "execution_count": null,
   "id": "2fb9fe51-2022-4686-a090-cffda963b6d5",
   "metadata": {},
   "outputs": [],
   "source": [
    "def generate_csv_name(health_board):\n",
    "    return health_board.lower().title().replace(\" \", \"_\") + '_Pharmacies.csv'\n",
    "\n",
    "def create_csv(df, name):\n",
    "    path = './' + name\n",
    "    df.to_csv(path, index=False)\n",
    "    logging.info(f\"CSV successfully created at path: {path}...\")"
   ]
  },
  {
   "cell_type": "code",
   "execution_count": null,
   "id": "39162fc6-3020-41d9-b411-635203ef24b8",
   "metadata": {},
   "outputs": [],
   "source": [
    "pd.options.mode.chained_assignment = None\n",
    "\n",
    "for borough_dict in boroughs:\n",
    "    df = borough_dict.get('df')\n",
    "    add_phone_numbers_for_df(df)\n",
    "    df = df.drop(\"HEALTH_AND_WELLBEING_BOARD\", axis=1)\n",
    "    create_csv(df, generate_csv_name(borough_dict.get('health_board')))"
   ]
  },
  {
   "cell_type": "code",
   "execution_count": null,
   "id": "c4e44b6a-6f4a-4788-8c52-1c162b35f015",
   "metadata": {},
   "outputs": [],
   "source": [
    "logging.info(\"Job complete!\")"
   ]
  }
 ],
 "metadata": {
  "kernelspec": {
   "display_name": "Python 3 (ipykernel)",
   "language": "python",
   "name": "python3"
  },
  "language_info": {
   "codemirror_mode": {
    "name": "ipython",
    "version": 3
   },
   "file_extension": ".py",
   "mimetype": "text/x-python",
   "name": "python",
   "nbconvert_exporter": "python",
   "pygments_lexer": "ipython3",
   "version": "3.12.3"
  }
 },
 "nbformat": 4,
 "nbformat_minor": 5
}
